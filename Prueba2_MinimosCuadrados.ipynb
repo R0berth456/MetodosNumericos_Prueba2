{
  "nbformat": 4,
  "nbformat_minor": 0,
  "metadata": {
    "colab": {
      "provenance": [],
      "authorship_tag": "ABX9TyPOFlVvxtODeNqU1TSY4Qf9",
      "include_colab_link": true
    },
    "kernelspec": {
      "name": "python3",
      "display_name": "Python 3"
    },
    "language_info": {
      "name": "python"
    }
  },
  "cells": [
    {
      "cell_type": "markdown",
      "metadata": {
        "id": "view-in-github",
        "colab_type": "text"
      },
      "source": [
        "<a href=\"https://colab.research.google.com/github/R0berth456/MetodosNumericos_Prueba2/blob/main/Prueba2_MinimosCuadrados.ipynb\" target=\"_parent\"><img src=\"https://colab.research.google.com/assets/colab-badge.svg\" alt=\"Open In Colab\"/></a>"
      ]
    },
    {
      "cell_type": "markdown",
      "source": [
        "Pregunta 2"
      ],
      "metadata": {
        "id": "X6M6JowhoVPJ"
      }
    },
    {
      "cell_type": "code",
      "source": [
        "def der_parcial_a(xs: list, ys: list) -> tuple[float, float, float, float]:\n",
        "    \"\"\"\n",
        "    Retorna los coeficientes de la ecuación de la derivada parcial con respecto al parámetro a\n",
        "    al reemplazar los valores ``xs`` y ``ys``.\n",
        "    La ecuación es de la forma: c_2 * a + c_1 * b + c_0 * c = c_ind\n",
        "\n",
        "    ## Parameters\n",
        "    ``xs``: lista de valores de x.\n",
        "    ``ys``: lista de valores de y.\n",
        "\n",
        "    ## Return\n",
        "    ``c_2``: coeficiente del parámetro a.\n",
        "    ``c_1``: coeficiente del parámetro b.\n",
        "    ``c_0``: coeficiente del parámetro c.\n",
        "    ``c_ind``: coeficiente del término independiente.\n",
        "\n",
        "    \"\"\"\n",
        "    c_0 = sum(xs)\n",
        "    c_1 = sum(x**2 for x in xs)\n",
        "    c_2 = sum(x**3 for x in xs)\n",
        "    c_ind = sum(y * x for x, y in zip(xs, ys))\n",
        "\n",
        "    return (c_0, c_1, c_2, c_ind)"
      ],
      "metadata": {
        "id": "Bk-XVvfJoUw9"
      },
      "execution_count": null,
      "outputs": []
    },
    {
      "cell_type": "code",
      "source": [
        "def der_parcial_b(xs: list, ys: list) -> tuple[float, float, float, float]:\n",
        "    \"\"\"\n",
        "    Retorna los coeficientes de la ecuación de la derivada parcial con respecto al parámetro b\n",
        "    al reemplazar los valores ``xs`` y ``ys``.\n",
        "    La ecuación es de la forma: c_2 * a + c_1 * b + c_0 * c = c_ind\n",
        "\n",
        "    ## Parameters\n",
        "    ``xs``: lista de valores de x.\n",
        "    ``ys``: lista de valores de y.\n",
        "\n",
        "    ## Return\n",
        "    ``c_2``: coeficiente del parámetro a.\n",
        "    ``c_1``: coeficiente del parámetro b.\n",
        "    ``c_0``: coeficiente del parámetro c.\n",
        "    ``c_ind``: coeficiente del término independiente.\n",
        "    \"\"\"\n",
        "\n",
        "    c_2 = sum(x**2 for x in xs)\n",
        "    c_1 = sum(xs)\n",
        "    c_0 = len(xs)\n",
        "    c_ind = sum(ys)\n",
        "\n",
        "    return (c_2, c_1, c_0, c_ind)"
      ],
      "metadata": {
        "id": "oK79VPF9o3Ea"
      },
      "execution_count": null,
      "outputs": []
    },
    {
      "cell_type": "code",
      "source": [
        "def der_parcial_c(xs: list, ys: list) -> tuple[float, float, float, float]:\n",
        "    \"\"\"\n",
        "    Retorna los coeficientes de la ecuación de la derivada parcial con respecto al parámetro c\n",
        "    al reemplazar los valores ``xs`` y ``ys``.\n",
        "    La ecuación es de la forma: c_2 * a + c_1 * b + c_0 * c = c_ind\n",
        "\n",
        "    ## Parameters\n",
        "    ``xs``: lista de valores de x.\n",
        "    ``ys``: lista de valores de y.\n",
        "\n",
        "    ## Return\n",
        "    ``c_2``: coeficiente del parámetro a.\n",
        "    ``c_1``: coeficiente del parámetro b.\n",
        "    ``c_0``: coeficiente del parámetro c.\n",
        "    ``c_ind``: coeficiente del término independiente.\n",
        "    \"\"\"\n",
        "\n",
        "    c_2 = sum(x**4 for x in xs)\n",
        "    c_1 = sum(x**3 for x in xs)\n",
        "    c_0 = sum(x**2 for x in xs)\n",
        "    c_ind = sum(y * x**2 for x, y in zip(xs, ys))\n",
        "\n",
        "    return (c_2, c_1, c_0, c_ind)"
      ],
      "metadata": {
        "id": "UMNKoLw8pKO9"
      },
      "execution_count": null,
      "outputs": []
    },
    {
      "cell_type": "code",
      "source": [
        "xs2 = [\n",
        "    -5.0000,\n",
        "    -3.8889,\n",
        "    -2.7778,\n",
        "    -1.6667,\n",
        "    -0.5556,\n",
        "    0.5556,\n",
        "    1.6667,\n",
        "    2.7778,\n",
        "    3.8889,\n",
        "    5.0000,\n",
        "]\n",
        "ys2 = [\n",
        "    57.2441,\n",
        "    33.0303,\n",
        "    16.4817,\n",
        "    7.0299,\n",
        "    0.5498,\n",
        "    0.7117,\n",
        "    3.4185,\n",
        "    12.1767,\n",
        "    24.9167,\n",
        "    44.2495,\n",
        "]"
      ],
      "metadata": {
        "id": "L9m1emsIpoT1"
      },
      "execution_count": null,
      "outputs": []
    },
    {
      "cell_type": "code",
      "source": [
        "def cuadratica(x: float, pars: tuple[float]) -> float:\n",
        "    a2, a1, a0 = pars\n",
        "    return a2 * x**2 + a1 * x + a0"
      ],
      "metadata": {
        "id": "uSSAxCcuucSN"
      },
      "execution_count": null,
      "outputs": []
    },
    {
      "cell_type": "code",
      "source": [
        "plt.scatter(xs2, ys2)\n",
        "plt.xlabel(\"x\")\n",
        "plt.ylabel(\"y\")\n",
        "plt.title(\"Conjunto de datos 2\")\n",
        "plt.show()"
      ],
      "metadata": {
        "id": "G5HWyFxgumSI"
      },
      "execution_count": null,
      "outputs": []
    },
    {
      "cell_type": "code",
      "source": [
        "import numpy as np\n",
        "\n",
        "x = np.linspace(-5, 5, 100)\n",
        "\n",
        "pars = ajustar_min_cuadrados(xs2, ys2, gradiente=[der_parcial_a, der_parcial_b, der_parcial_c])\n",
        "\n",
        "y = [cuadratica(xi, pars) for xi in x]\n",
        "\n",
        "plt.scatter(xs2, ys2, label=\"Datos\")\n",
        "plt.plot(x, y, color=\"red\", label=r\"$ y = a x^2 + b x + c $\")\n",
        "plt.xlabel(\"x\")\n",
        "plt.ylabel(\"y\")\n",
        "plt.title(\"Ajuste por mínimos cuadrados\")\n",
        "plt.legend()\n",
        "plt.show()"
      ],
      "metadata": {
        "id": "_ppPqpG6uqqE"
      },
      "execution_count": null,
      "outputs": []
    }
  ]
}