{
  "cells": [
    {
      "cell_type": "markdown",
      "metadata": {
        "id": "view-in-github",
        "colab_type": "text"
      },
      "source": [
        "<a href=\"https://colab.research.google.com/github/R0berth456/MetodosNumericos_Prueba2/blob/main/Prueba2_Determinante.ipynb\" target=\"_parent\"><img src=\"https://colab.research.google.com/assets/colab-badge.svg\" alt=\"Open In Colab\"/></a>"
      ]
    },
    {
      "cell_type": "code",
      "execution_count": null,
      "metadata": {
        "id": "WAXm61eV-mQy"
      },
      "outputs": [],
      "source": [
        "%load_ext autoreload"
      ]
    },
    {
      "cell_type": "markdown",
      "metadata": {
        "id": "yCmEwkru-mQz"
      },
      "source": [
        "# Examen"
      ]
    },
    {
      "cell_type": "markdown",
      "metadata": {
        "id": "NfPvggSQ-mQ0"
      },
      "source": [
        "## Determinante"
      ]
    },
    {
      "cell_type": "code",
      "execution_count": null,
      "metadata": {
        "id": "QruyZvoS-mQ0"
      },
      "outputs": [],
      "source": [
        "A = [\n",
        "    [-4, 2, -4, -4, 1, 2, 5, 3, 5, 1],\n",
        "    [1, 0, 4, 3, 0, -2, 3, 0, 1, 5],\n",
        "    [5, 5, -4, 5, -4, 2, 2, 2, 4, 4],\n",
        "    [-1, 3, 4, -1, -4, 0, 5, 0, 0, 5],\n",
        "    [4, 1, 4, 2, 0, 0, 3, -1, 0, 2],\n",
        "    [2, -2, 1, -1, -2, -3, 2, -2, 4, -1],\n",
        "    [3, -2, -3, -2, -1, -3, 5, -1, 5, 0],\n",
        "    [3, 4, -3, 3, -2, 2, -4, -4, 1, 5],\n",
        "    [-4, 0, 3, 3, -3, -2, -2, 0, 5, -4],\n",
        "    [-2, 4, 4, -2, -1, 1, 5, -1, 3, -3],\n",
        "]"
      ]
    },
    {
      "cell_type": "markdown",
      "metadata": {
        "id": "buaz5XD_-mQ1"
      },
      "source": [
        "# Indicaciones\n",
        "Su trabajo es ajustar el código de los métodos de resolución de sistemas de ecuaciones lineales para encontrar el valor del determinante. Tenga en cuenta las siguientes consideraciones:\n",
        "* Usar algún método de resolución de sistemas de ecuaciones lineales para calcular el determinante.\n",
        "* Usar la función creada para calcular el determinante de la matriz de ejemplo A.\n",
        "* Listar los cambios realizados.\n",
        "* Modificar y utilizar SOLO el código provisto. No se aceptarán la utilización de otras librerías o funciones."
      ]
    },
    {
      "cell_type": "code",
      "execution_count": null,
      "metadata": {
        "id": "SFy1OQYH-mQ1",
        "outputId": "7ce79381-8066-4f7a-c354-d8d4cc4b7767"
      },
      "outputs": [
        {
          "name": "stdout",
          "output_type": "stream",
          "text": [
            "[07-19 16:01:47][INFO] 2024-07-19 16:01:47.745967\n",
            "[07-19 16:01:47][INFO] 2024-07-19 16:01:47.792704\n",
            "[07-19 16:01:47][INFO] 2024-07-19 16:01:47.792704\n"
          ]
        }
      ],
      "source": [
        "%autoreload 2\n",
        "from src import (\n",
        "    eliminacion_gaussiana,\n",
        "    descomposicion_LU,\n",
        "    resolver_LU,\n",
        "    matriz_aumentada,\n",
        "    separar_m_aumentada,\n",
        ")\n",
        "\n",
        "\n",
        "# ####################################################################\n",
        "def calc_determinante(A: list[list[float]]) -> float:\n",
        "    \"\"\"Función que calcula el determinante usando el método\n",
        "    [Descomposición LU, eliminación gaussiana, Gauss-Jordan, Gauss-Jacobi o Gauss-Seidel]\n",
        "\n",
        "    ## Parameters\n",
        "    ``A``: Matriz cuadrada de tamaño n x n\n",
        "\n",
        "    ## Return\n",
        "    ``detA``: Determinante de la matriz A\n",
        "\n",
        "    \"\"\"\n",
        "    n = A.shape[0]\n",
        "    determinante = 1\n",
        "    cambio_signo = 0\n",
        "    aux = eliminacion_gaussiana(A)\n",
        "\n",
        "    for i in range(n):\n",
        "        determinante *= A[i, i]\n",
        "\n",
        "    if cambio_signo % 2 != 0:\n",
        "        determinante *= -1\n",
        "\n",
        "    return determinante"
      ]
    },
    {
      "cell_type": "code",
      "execution_count": null,
      "metadata": {
        "id": "rMUSRRdD-mQ2"
      },
      "outputs": [],
      "source": [
        "calc_determinante(A)"
      ]
    }
  ],
  "metadata": {
    "kernelspec": {
      "display_name": "Python 3",
      "language": "python",
      "name": "python3"
    },
    "language_info": {
      "codemirror_mode": {
        "name": "ipython",
        "version": 3
      },
      "file_extension": ".py",
      "mimetype": "text/x-python",
      "name": "python",
      "nbconvert_exporter": "python",
      "pygments_lexer": "ipython3",
      "version": "3.10.11"
    },
    "colab": {
      "provenance": [],
      "include_colab_link": true
    }
  },
  "nbformat": 4,
  "nbformat_minor": 0
}